{
 "cells": [
  {
   "cell_type": "markdown",
   "metadata": {},
   "source": [
    "# Pandas Warmup\n",
    "\n",
    "Pandas out yer ears"
   ]
  },
  {
   "cell_type": "markdown",
   "metadata": {},
   "source": [
    "Run the cell below w/o changes to load tests"
   ]
  },
  {
   "cell_type": "code",
   "execution_count": 2,
   "metadata": {},
   "outputs": [],
   "source": [
    "#run without changes\n",
    "\n",
    "from test_background import pkl_dump, test_obj_dict, run_test_dict, run_test"
   ]
  },
  {
   "cell_type": "markdown",
   "metadata": {},
   "source": [
    "## Data setup\n",
    "\n",
    "Import: \n",
    "\n",
    "- Pandas under the alias 'pd'\n",
    "\n",
    "- Matplotlib.pyplot under the alias 'plt'\n",
    "\n",
    "Run:\n",
    "- %matplotlib inline"
   ]
  },
  {
   "cell_type": "code",
   "execution_count": 3,
   "metadata": {},
   "outputs": [],
   "source": [
    "#Your code here\n",
    "import pandas as pd\n",
    "import matplotlib.pyplot as plt\n",
    "%matplotlib inline"
   ]
  },
  {
   "cell_type": "markdown",
   "metadata": {},
   "source": [
    "#### Make a dataframe by reading in the csv 'Chicago_Park_District__Movies_in_the_Parks_2019' which is in the \"data\" folder  \n",
    "\n",
    "#### Assign the dataframe to the variable 'movies'\n",
    "\n",
    "#### Look at the first five rows"
   ]
  },
  {
   "cell_type": "code",
   "execution_count": 4,
   "metadata": {},
   "outputs": [
    {
     "data": {
      "text/html": [
       "<div>\n",
       "<style scoped>\n",
       "    .dataframe tbody tr th:only-of-type {\n",
       "        vertical-align: middle;\n",
       "    }\n",
       "\n",
       "    .dataframe tbody tr th {\n",
       "        vertical-align: top;\n",
       "    }\n",
       "\n",
       "    .dataframe thead th {\n",
       "        text-align: right;\n",
       "    }\n",
       "</style>\n",
       "<table border=\"1\" class=\"dataframe\">\n",
       "  <thead>\n",
       "    <tr style=\"text-align: right;\">\n",
       "      <th></th>\n",
       "      <th>Day</th>\n",
       "      <th>Date</th>\n",
       "      <th>Park</th>\n",
       "      <th>Park Phone</th>\n",
       "      <th>Title</th>\n",
       "      <th>CC</th>\n",
       "      <th>Rating</th>\n",
       "      <th>Underwriter</th>\n",
       "      <th>Park Address</th>\n",
       "      <th>Location</th>\n",
       "    </tr>\n",
       "  </thead>\n",
       "  <tbody>\n",
       "    <tr>\n",
       "      <td>0</td>\n",
       "      <td>Mon</td>\n",
       "      <td>08/12/2019</td>\n",
       "      <td>River Park</td>\n",
       "      <td>(312) 742-7516</td>\n",
       "      <td>Hotel Transylvania 3</td>\n",
       "      <td>Y</td>\n",
       "      <td>PG</td>\n",
       "      <td>NaN</td>\n",
       "      <td>5100 N. Francisco Ave.</td>\n",
       "      <td>(41.97406838, -87.70144885)</td>\n",
       "    </tr>\n",
       "    <tr>\n",
       "      <td>1</td>\n",
       "      <td>Thu</td>\n",
       "      <td>07/18/2019</td>\n",
       "      <td>Hoard Playground Park</td>\n",
       "      <td>(773) 256-1903</td>\n",
       "      <td>Black Panther</td>\n",
       "      <td>Y</td>\n",
       "      <td>PG-13</td>\n",
       "      <td>NaN</td>\n",
       "      <td>7201 S. Dobson Ave.</td>\n",
       "      <td>(41.7640317, -87.59928813)</td>\n",
       "    </tr>\n",
       "    <tr>\n",
       "      <td>2</td>\n",
       "      <td>Fri</td>\n",
       "      <td>06/07/2019</td>\n",
       "      <td>Berger Park Cultural Center</td>\n",
       "      <td>(773) 761-0376</td>\n",
       "      <td>Some Like It Hot</td>\n",
       "      <td>Y</td>\n",
       "      <td>NR</td>\n",
       "      <td>NaN</td>\n",
       "      <td>6205 N. Sheridan Rd.</td>\n",
       "      <td>(41.99480562, -87.65538421)</td>\n",
       "    </tr>\n",
       "    <tr>\n",
       "      <td>3</td>\n",
       "      <td>Sat</td>\n",
       "      <td>07/13/2019</td>\n",
       "      <td>Skinner Park</td>\n",
       "      <td>(312) 746-5560</td>\n",
       "      <td>Big Hero 6</td>\n",
       "      <td>Y</td>\n",
       "      <td>PG</td>\n",
       "      <td>The Museum of Science and Industry</td>\n",
       "      <td>1331 W. Monroe St.</td>\n",
       "      <td>(41.88015941, -87.66077867)</td>\n",
       "    </tr>\n",
       "    <tr>\n",
       "      <td>4</td>\n",
       "      <td>Wed</td>\n",
       "      <td>07/24/2019</td>\n",
       "      <td>Kilbourn Park</td>\n",
       "      <td>(773) 685-3351</td>\n",
       "      <td>El Reality</td>\n",
       "      <td>Y</td>\n",
       "      <td>NR</td>\n",
       "      <td>The International Latino Cultural Center</td>\n",
       "      <td>3501 N. Kilbourn Ave.</td>\n",
       "      <td>(41.94450485, -87.73951111)</td>\n",
       "    </tr>\n",
       "  </tbody>\n",
       "</table>\n",
       "</div>"
      ],
      "text/plain": [
       "   Day        Date                         Park      Park Phone  \\\n",
       "0  Mon  08/12/2019                   River Park  (312) 742-7516   \n",
       "1  Thu  07/18/2019        Hoard Playground Park  (773) 256-1903   \n",
       "2  Fri  06/07/2019  Berger Park Cultural Center  (773) 761-0376   \n",
       "3  Sat  07/13/2019                 Skinner Park  (312) 746-5560   \n",
       "4  Wed  07/24/2019                Kilbourn Park  (773) 685-3351   \n",
       "\n",
       "                  Title CC Rating                               Underwriter  \\\n",
       "0  Hotel Transylvania 3  Y     PG                                       NaN   \n",
       "1         Black Panther  Y  PG-13                                       NaN   \n",
       "2      Some Like It Hot  Y     NR                                       NaN   \n",
       "3            Big Hero 6  Y     PG        The Museum of Science and Industry   \n",
       "4            El Reality  Y     NR  The International Latino Cultural Center   \n",
       "\n",
       "             Park Address                     Location  \n",
       "0  5100 N. Francisco Ave.  (41.97406838, -87.70144885)  \n",
       "1     7201 S. Dobson Ave.   (41.7640317, -87.59928813)  \n",
       "2    6205 N. Sheridan Rd.  (41.99480562, -87.65538421)  \n",
       "3      1331 W. Monroe St.  (41.88015941, -87.66077867)  \n",
       "4   3501 N. Kilbourn Ave.  (41.94450485, -87.73951111)  "
      ]
     },
     "execution_count": 4,
     "metadata": {},
     "output_type": "execute_result"
    }
   ],
   "source": [
    "#Your code here\n",
    "movies = pd.read_csv('./data/Chicago_Park_District__Movies_in_the_Parks_2019.csv')\n",
    "movies.head()"
   ]
  },
  {
   "cell_type": "markdown",
   "metadata": {},
   "source": [
    "#### What kind of type is the data in the Date column?  Turn it into a datetime type if it's not already"
   ]
  },
  {
   "cell_type": "code",
   "execution_count": 7,
   "metadata": {},
   "outputs": [
    {
     "name": "stdout",
     "output_type": "stream",
     "text": [
      "<class 'pandas.core.frame.DataFrame'>\n",
      "RangeIndex: 210 entries, 0 to 209\n",
      "Data columns (total 10 columns):\n",
      "Day             210 non-null object\n",
      "Date            210 non-null datetime64[ns]\n",
      "Park            210 non-null object\n",
      "Park Phone      210 non-null object\n",
      "Title           210 non-null object\n",
      "CC              210 non-null object\n",
      "Rating          210 non-null object\n",
      "Underwriter     75 non-null object\n",
      "Park Address    210 non-null object\n",
      "Location        209 non-null object\n",
      "dtypes: datetime64[ns](1), object(9)\n",
      "memory usage: 16.5+ KB\n",
      "<class 'pandas.core.frame.DataFrame'>\n",
      "RangeIndex: 210 entries, 0 to 209\n",
      "Data columns (total 10 columns):\n",
      "Day             210 non-null object\n",
      "Date            210 non-null datetime64[ns]\n",
      "Park            210 non-null object\n",
      "Park Phone      210 non-null object\n",
      "Title           210 non-null object\n",
      "CC              210 non-null object\n",
      "Rating          210 non-null object\n",
      "Underwriter     75 non-null object\n",
      "Park Address    210 non-null object\n",
      "Location        209 non-null object\n",
      "dtypes: datetime64[ns](1), object(9)\n",
      "memory usage: 16.5+ KB\n"
     ]
    }
   ],
   "source": [
    "#Your code here\n",
    "movies.info()\n",
    "#  all are strings\n",
    "movies['Date'] = pd.to_datetime(movies['Date'])\n",
    "movies.info()"
   ]
  },
  {
   "cell_type": "markdown",
   "metadata": {},
   "source": [
    "#### Replace the truncated days of the week in the Days column with the full string of the day of the week using the Date column\n",
    "\n",
    "[*Hint*](https://pandas.pydata.org/pandas-docs/version/0.25.0/reference/api/pandas.Series.dt.day_name.html)"
   ]
  },
  {
   "cell_type": "code",
   "execution_count": 15,
   "metadata": {},
   "outputs": [
    {
     "data": {
      "text/plain": [
       "6"
      ]
     },
     "execution_count": 15,
     "metadata": {},
     "output_type": "execute_result"
    }
   ],
   "source": [
    "#Your code here\n"
   ]
  },
  {
   "cell_type": "markdown",
   "metadata": {},
   "source": [
    "#### Sort `movies` by the Day column, with 'Monday' first and 'Sunday' last\n",
    "\n",
    "[*Hint*](https://pandas.pydata.org/pandas-docs/version/0.25.0/reference/api/pandas.Categorical.html#pandas.Categorical)"
   ]
  },
  {
   "cell_type": "code",
   "execution_count": 12,
   "metadata": {},
   "outputs": [],
   "source": [
    "#Your code here"
   ]
  },
  {
   "cell_type": "markdown",
   "metadata": {},
   "source": [
    "## Data Exploration"
   ]
  },
  {
   "cell_type": "markdown",
   "metadata": {},
   "source": [
    "#### What is the most frequent place to show a movie?  (Remember that there might be a tie!)\n",
    "\n",
    "#### Assign your answer to the variable `venue_max` as a list of one or more strings"
   ]
  },
  {
   "cell_type": "code",
   "execution_count": 23,
   "metadata": {},
   "outputs": [
    {
     "data": {
      "text/plain": [
       "['Wicker Park']"
      ]
     },
     "execution_count": 23,
     "metadata": {},
     "output_type": "execute_result"
    }
   ],
   "source": [
    "#Your code here\n",
    "venue_max = [movies['Park'][movies['Park'].value_counts().max()]]\n",
    "venue_max"
   ]
  },
  {
   "cell_type": "code",
   "execution_count": 18,
   "metadata": {},
   "outputs": [],
   "source": [
    "#test your answer here\n",
    "\n",
    "run_test(venue_max, 'venue_max')"
   ]
  },
  {
   "cell_type": "markdown",
   "metadata": {},
   "source": [
    "#### What's the area code in which movies are shown most frequently?\n",
    "\n",
    "#### Assign your answer to the variable `area_code` as an integer"
   ]
  },
  {
   "cell_type": "code",
   "execution_count": 46,
   "metadata": {},
   "outputs": [],
   "source": [
    "#Your code here"
   ]
  },
  {
   "cell_type": "code",
   "execution_count": 23,
   "metadata": {},
   "outputs": [],
   "source": [
    "#run this cell to test your answer\n",
    "\n",
    "run_test(area_code, 'area_code')"
   ]
  },
  {
   "cell_type": "markdown",
   "metadata": {},
   "source": [
    "## Data Manipulation\n",
    "\n",
    "#### Group the data by what day of the week the movies are shown using `.groupby()`\n",
    "\n",
    "#### Assign to the variable `movies_grp_day` \n",
    "(concept check: what type of object is this?)\n",
    "\n",
    "#### Using `movies_grp_day`, assign to `movies_per_day` a series where the index is the day of the week and the values are total counts of movies per day \n",
    "\n",
    "#### Again using `movies_grp_day`, assign to `unique_movies_per_day` a series where the index is the day of the week and the values are unique counts of movies per day of the week.\n",
    "\n",
    "#### Use `movies_per_day` and `unique_movies_per_day` to calculate a series of how many movie showings per day of the week are of movies that are shown more than once.  Assign this series to `repeats`\n",
    "\n",
    "#### Sort `repeats` so Monday is the first entry and Sunday is the last"
   ]
  },
  {
   "cell_type": "code",
   "execution_count": 49,
   "metadata": {},
   "outputs": [],
   "source": [
    "#Your code here"
   ]
  },
  {
   "cell_type": "code",
   "execution_count": 26,
   "metadata": {},
   "outputs": [],
   "source": [
    "#test your answer here\n",
    "\n",
    "run_test(repeats, 'repeats')"
   ]
  },
  {
   "cell_type": "markdown",
   "metadata": {},
   "source": [
    "#### Which day of the week has the fewest underwriters?  Run a calculation that results in a string (ie, don't run a calculation which displays the answer somewhere and then create a new string with the answer)\n",
    "\n",
    "#### Assign that string to `day_underwriter_min`"
   ]
  },
  {
   "cell_type": "code",
   "execution_count": 52,
   "metadata": {},
   "outputs": [],
   "source": [
    "#Your code here"
   ]
  },
  {
   "cell_type": "code",
   "execution_count": 29,
   "metadata": {},
   "outputs": [],
   "source": [
    "#test your answer here\n",
    "\n",
    "run_test(day_underwriter_min, 'day_underwriter_min')"
   ]
  },
  {
   "cell_type": "markdown",
   "metadata": {},
   "source": [
    "#### Using `movies_grp_day`, assign the variable `model_ratings_day` to a series where the index is the days of the week and the values are the modal rating for movies shown that day\n",
    "\n",
    "#### Sort so that the first index is Monday and the last is Sunday\n",
    "\n",
    "\n",
    "*Hint: look at [the groupby documentation](https://pandas.pydata.org/pandas-docs/version/0.23.4/generated/pandas.core.groupby.DataFrameGroupBy.agg.html) and write a function*"
   ]
  },
  {
   "cell_type": "code",
   "execution_count": null,
   "metadata": {},
   "outputs": [],
   "source": [
    "#Your code here"
   ]
  },
  {
   "cell_type": "code",
   "execution_count": 33,
   "metadata": {},
   "outputs": [],
   "source": [
    "#test your answer here\n",
    "run_test(modal_ratings_day, 'modal_ratings_day')"
   ]
  },
  {
   "cell_type": "markdown",
   "metadata": {},
   "source": [
    "## Strrretch Goal\n",
    "\n",
    "#### Make a stacked bar chart showing the ratings of movies across days of the week using fig and ax objects\n",
    "\n",
    "#### Title the x-axis \"Day\"\n",
    "\n",
    "#### Title the y-axis \"Count of Movies Shown\"\n",
    "\n",
    "#### Title the chart as a whole \"Chicago Movies in the Park by Day and Rating\"\n",
    "\n",
    "[*Hint*](https://matplotlib.org/3.1.1/gallery/lines_bars_and_markers/bar_stacked.html)"
   ]
  },
  {
   "cell_type": "markdown",
   "metadata": {},
   "source": [
    "When you're done it should look like this (w/ figsize 8,5):\n",
    "\n",
    "![](viz/final_chart.png)"
   ]
  },
  {
   "cell_type": "code",
   "execution_count": 6,
   "metadata": {},
   "outputs": [],
   "source": [
    "#Your code here"
   ]
  },
  {
   "cell_type": "code",
   "execution_count": null,
   "metadata": {},
   "outputs": [],
   "source": []
  }
 ],
 "metadata": {
  "kernelspec": {
   "display_name": "Python 3",
   "language": "python",
   "name": "python3"
  },
  "language_info": {
   "codemirror_mode": {
    "name": "ipython",
    "version": 3
   },
   "file_extension": ".py",
   "mimetype": "text/x-python",
   "name": "python",
   "nbconvert_exporter": "python",
   "pygments_lexer": "ipython3",
   "version": "3.6.9"
  }
 },
 "nbformat": 4,
 "nbformat_minor": 4
}
